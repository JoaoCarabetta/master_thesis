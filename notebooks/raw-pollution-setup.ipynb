{
 "cells": [
  {
   "cell_type": "markdown",
   "metadata": {},
   "source": [
    "# Setup"
   ]
  },
  {
   "cell_type": "markdown",
   "metadata": {},
   "source": [
    "## Imports"
   ]
  },
  {
   "cell_type": "code",
   "execution_count": 2,
   "metadata": {
    "ExecuteTime": {
     "end_time": "2019-03-08T22:54:51.523845Z",
     "start_time": "2019-03-08T22:54:48.016586Z"
    }
   },
   "outputs": [
    {
     "data": {
      "text/html": [
       "<script>requirejs.config({paths: { 'plotly': ['https://cdn.plot.ly/plotly-latest.min']},});if(!window.Plotly) {{require(['plotly'],function(plotly) {window.Plotly=plotly;});}}</script>"
      ],
      "text/vnd.plotly.v1+html": [
       "<script>requirejs.config({paths: { 'plotly': ['https://cdn.plot.ly/plotly-latest.min']},});if(!window.Plotly) {{require(['plotly'],function(plotly) {window.Plotly=plotly;});}}</script>"
      ]
     },
     "metadata": {},
     "output_type": "display_data"
    }
   ],
   "source": [
    "%reload_ext autoreload\n",
    "%autoreload 2\n",
    "\n",
    "import sys\n",
    "from pathlib import Path \n",
    "current_path = Path().resolve()\n",
    "abs_path = str(current_path.parent)\n",
    "sys.path.append(abs_path)\n",
    "\n",
    "RAW_PATH = current_path.parent / 'data' / 'raw'\n",
    "OUTPUT_PATH = current_path.parent / 'data' / 'output'\n",
    "\n",
    "import warnings\n",
    "warnings.filterwarnings('ignore')\n",
    "\n",
    "import pandas as pd\n",
    "pd.set_option('display.max_columns', None)\n",
    "\n",
    "import plotly.graph_objs as go\n",
    "import plotly.plotly as py\n",
    "import plotly.offline as offline\n",
    "offline.init_notebook_mode(connected=True)\n",
    "\n",
    "from h3 import h3\n",
    "import folium\n",
    "from pyathena import connect\n",
    "import geopandas as gpd\n",
    "\n",
    "EXTERNAL_LOCATION = 's3://athena-fgv/'"
   ]
  },
  {
   "cell_type": "code",
   "execution_count": 3,
   "metadata": {},
   "outputs": [
    {
     "name": "stdout",
     "output_type": "stream",
     "text": [
      "Collecting h3\n",
      "  Using cached https://files.pythonhosted.org/packages/f3/ee/9fc225d259538f73f08d21b52aa9c64d6e911d2a358866d5c1c860c2f7c8/h3-3.4.2.tar.gz\n",
      "Building wheels for collected packages: h3\n",
      "  Building wheel for h3 (setup.py) ... \u001b[?25l\\^C\n",
      "\u001b[?25canceled\n"
     ]
    }
   ],
   "source": [
    "!pip3.7 install h3"
   ]
  },
  {
   "cell_type": "markdown",
   "metadata": {},
   "source": [
    "## Load cities datasets"
   ]
  },
  {
   "cell_type": "code",
   "execution_count": 4,
   "metadata": {},
   "outputs": [],
   "source": [
    "cities = {'city1': pd.read_csv(RAW_PATH / 'raw_pollution_city1.csv'),\n",
    "         'city2': pd.read_csv(RAW_PATH / 'raw_pollution_city2.csv')}"
   ]
  },
  {
   "cell_type": "code",
   "execution_count": 5,
   "metadata": {},
   "outputs": [
    {
     "data": {
      "text/html": [
       "<div>\n",
       "<style scoped>\n",
       "    .dataframe tbody tr th:only-of-type {\n",
       "        vertical-align: middle;\n",
       "    }\n",
       "\n",
       "    .dataframe tbody tr th {\n",
       "        vertical-align: top;\n",
       "    }\n",
       "\n",
       "    .dataframe thead th {\n",
       "        text-align: right;\n",
       "    }\n",
       "</style>\n",
       "<table border=\"1\" class=\"dataframe\">\n",
       "  <thead>\n",
       "    <tr style=\"text-align: right;\">\n",
       "      <th></th>\n",
       "      <th>Lon</th>\n",
       "      <th>Lat</th>\n",
       "      <th>NO_Med</th>\n",
       "      <th>NO2_Med</th>\n",
       "      <th>BC_Med</th>\n",
       "      <th>NO_Mean</th>\n",
       "      <th>NO2_Mean</th>\n",
       "      <th>BC_Mean</th>\n",
       "      <th>Speed_Med</th>\n",
       "      <th>Unique_Days</th>\n",
       "      <th>Unique_1Hz</th>\n",
       "      <th>AdjFac_NO</th>\n",
       "      <th>AdjFac_NO2</th>\n",
       "      <th>AdjFac_BC</th>\n",
       "      <th>Road_Type</th>\n",
       "      <th>Index_Hwy</th>\n",
       "      <th>Index_Domain</th>\n",
       "      <th>NO_SE</th>\n",
       "      <th>NO2_SE</th>\n",
       "      <th>BC_SE</th>\n",
       "    </tr>\n",
       "  </thead>\n",
       "  <tbody>\n",
       "    <tr>\n",
       "      <th>0</th>\n",
       "      <td>-122.305836</td>\n",
       "      <td>37.808121</td>\n",
       "      <td>47.011244</td>\n",
       "      <td>43.184173</td>\n",
       "      <td>2.332410</td>\n",
       "      <td>72.232684</td>\n",
       "      <td>46.539966</td>\n",
       "      <td>3.375462</td>\n",
       "      <td>13.033449</td>\n",
       "      <td>82</td>\n",
       "      <td>198</td>\n",
       "      <td>1.064103</td>\n",
       "      <td>1.121613</td>\n",
       "      <td>1.117647</td>\n",
       "      <td>2</td>\n",
       "      <td>0</td>\n",
       "      <td>1</td>\n",
       "      <td>2.724004</td>\n",
       "      <td>2.080245</td>\n",
       "      <td>0.147212</td>\n",
       "    </tr>\n",
       "    <tr>\n",
       "      <th>1</th>\n",
       "      <td>-122.305702</td>\n",
       "      <td>37.808196</td>\n",
       "      <td>61.504760</td>\n",
       "      <td>45.305978</td>\n",
       "      <td>2.702900</td>\n",
       "      <td>82.330182</td>\n",
       "      <td>48.391790</td>\n",
       "      <td>4.476297</td>\n",
       "      <td>15.451338</td>\n",
       "      <td>60</td>\n",
       "      <td>76</td>\n",
       "      <td>1.023256</td>\n",
       "      <td>1.125000</td>\n",
       "      <td>1.005076</td>\n",
       "      <td>3</td>\n",
       "      <td>0</td>\n",
       "      <td>1</td>\n",
       "      <td>6.447487</td>\n",
       "      <td>3.198008</td>\n",
       "      <td>0.423799</td>\n",
       "    </tr>\n",
       "    <tr>\n",
       "      <th>2</th>\n",
       "      <td>-122.305675</td>\n",
       "      <td>37.807926</td>\n",
       "      <td>65.461539</td>\n",
       "      <td>55.908574</td>\n",
       "      <td>2.593800</td>\n",
       "      <td>95.612270</td>\n",
       "      <td>59.104009</td>\n",
       "      <td>2.649551</td>\n",
       "      <td>10.947377</td>\n",
       "      <td>20</td>\n",
       "      <td>37</td>\n",
       "      <td>1.200000</td>\n",
       "      <td>1.244681</td>\n",
       "      <td>1.055556</td>\n",
       "      <td>2</td>\n",
       "      <td>0</td>\n",
       "      <td>1</td>\n",
       "      <td>24.511033</td>\n",
       "      <td>10.833200</td>\n",
       "      <td>0.370535</td>\n",
       "    </tr>\n",
       "    <tr>\n",
       "      <th>3</th>\n",
       "      <td>-122.305652</td>\n",
       "      <td>37.807967</td>\n",
       "      <td>50.142858</td>\n",
       "      <td>41.317134</td>\n",
       "      <td>1.633319</td>\n",
       "      <td>68.687605</td>\n",
       "      <td>42.583438</td>\n",
       "      <td>3.036578</td>\n",
       "      <td>4.426794</td>\n",
       "      <td>58</td>\n",
       "      <td>256</td>\n",
       "      <td>1.092554</td>\n",
       "      <td>1.224490</td>\n",
       "      <td>1.109083</td>\n",
       "      <td>2</td>\n",
       "      <td>0</td>\n",
       "      <td>1</td>\n",
       "      <td>2.702267</td>\n",
       "      <td>1.307927</td>\n",
       "      <td>0.098800</td>\n",
       "    </tr>\n",
       "    <tr>\n",
       "      <th>4</th>\n",
       "      <td>-122.305496</td>\n",
       "      <td>37.808105</td>\n",
       "      <td>50.474726</td>\n",
       "      <td>39.777000</td>\n",
       "      <td>2.313093</td>\n",
       "      <td>79.554567</td>\n",
       "      <td>44.614032</td>\n",
       "      <td>3.993717</td>\n",
       "      <td>10.438077</td>\n",
       "      <td>81</td>\n",
       "      <td>293</td>\n",
       "      <td>1.092929</td>\n",
       "      <td>1.065217</td>\n",
       "      <td>1.117647</td>\n",
       "      <td>2</td>\n",
       "      <td>0</td>\n",
       "      <td>1</td>\n",
       "      <td>4.020630</td>\n",
       "      <td>2.186250</td>\n",
       "      <td>0.250747</td>\n",
       "    </tr>\n",
       "  </tbody>\n",
       "</table>\n",
       "</div>"
      ],
      "text/plain": [
       "          Lon        Lat     NO_Med    NO2_Med    BC_Med    NO_Mean  \\\n",
       "0 -122.305836  37.808121  47.011244  43.184173  2.332410  72.232684   \n",
       "1 -122.305702  37.808196  61.504760  45.305978  2.702900  82.330182   \n",
       "2 -122.305675  37.807926  65.461539  55.908574  2.593800  95.612270   \n",
       "3 -122.305652  37.807967  50.142858  41.317134  1.633319  68.687605   \n",
       "4 -122.305496  37.808105  50.474726  39.777000  2.313093  79.554567   \n",
       "\n",
       "    NO2_Mean   BC_Mean  Speed_Med  Unique_Days  Unique_1Hz  AdjFac_NO  \\\n",
       "0  46.539966  3.375462  13.033449           82         198   1.064103   \n",
       "1  48.391790  4.476297  15.451338           60          76   1.023256   \n",
       "2  59.104009  2.649551  10.947377           20          37   1.200000   \n",
       "3  42.583438  3.036578   4.426794           58         256   1.092554   \n",
       "4  44.614032  3.993717  10.438077           81         293   1.092929   \n",
       "\n",
       "   AdjFac_NO2  AdjFac_BC  Road_Type  Index_Hwy  Index_Domain      NO_SE  \\\n",
       "0    1.121613   1.117647          2          0             1   2.724004   \n",
       "1    1.125000   1.005076          3          0             1   6.447487   \n",
       "2    1.244681   1.055556          2          0             1  24.511033   \n",
       "3    1.224490   1.109083          2          0             1   2.702267   \n",
       "4    1.065217   1.117647          2          0             1   4.020630   \n",
       "\n",
       "      NO2_SE     BC_SE  \n",
       "0   2.080245  0.147212  \n",
       "1   3.198008  0.423799  \n",
       "2  10.833200  0.370535  \n",
       "3   1.307927  0.098800  \n",
       "4   2.186250  0.250747  "
      ]
     },
     "execution_count": 5,
     "metadata": {},
     "output_type": "execute_result"
    }
   ],
   "source": [
    "cities['city1'].head()"
   ]
  },
  {
   "cell_type": "markdown",
   "metadata": {},
   "source": [
    "## Get H3 hexagons"
   ]
  },
  {
   "cell_type": "code",
   "execution_count": 9,
   "metadata": {},
   "outputs": [],
   "source": [
    "for key in cities.keys():\n",
    "    for res in range(7, 12):\n",
    "        cities[key][f'h3id_{res}'] = cities[key][['Lon', 'Lat']].apply(lambda x: h3.geo_to_h3(x['Lat'], x['Lon'], res), 1)"
   ]
  },
  {
   "cell_type": "code",
   "execution_count": 10,
   "metadata": {},
   "outputs": [],
   "source": [
    "for key in cities.keys():\n",
    "    cities[key].to_csv(RAW_PATH / f'raw_pollution_{key}_h3.csv')"
   ]
  },
  {
   "cell_type": "code",
   "execution_count": null,
   "metadata": {},
   "outputs": [],
   "source": []
  },
  {
   "cell_type": "code",
   "execution_count": 11,
   "metadata": {},
   "outputs": [
    {
     "data": {
      "text/plain": [
       "137"
      ]
     },
     "execution_count": 11,
     "metadata": {},
     "output_type": "execute_result"
    }
   ],
   "source": [
    "len(set(list(cities['city1']['h3id_9'])))"
   ]
  },
  {
   "cell_type": "markdown",
   "metadata": {},
   "source": [
    "### Check H3 hexagons sizes"
   ]
  },
  {
   "cell_type": "code",
   "execution_count": 61,
   "metadata": {},
   "outputs": [
    {
     "data": {
      "text/html": [
       "<div style=\"width:100%;\"><div style=\"position:relative;width:100%;height:0;padding-bottom:60%;\"><iframe src=\"data:text/html;charset=utf-8;base64,PCFET0NUWVBFIGh0bWw+CjxoZWFkPiAgICAKICAgIDxtZXRhIGh0dHAtZXF1aXY9ImNvbnRlbnQtdHlwZSIgY29udGVudD0idGV4dC9odG1sOyBjaGFyc2V0PVVURi04IiAvPgogICAgPHNjcmlwdD5MX1BSRUZFUl9DQU5WQVMgPSBmYWxzZTsgTF9OT19UT1VDSCA9IGZhbHNlOyBMX0RJU0FCTEVfM0QgPSBmYWxzZTs8L3NjcmlwdD4KICAgIDxzY3JpcHQgc3JjPSJodHRwczovL2Nkbi5qc2RlbGl2ci5uZXQvbnBtL2xlYWZsZXRAMS4yLjAvZGlzdC9sZWFmbGV0LmpzIj48L3NjcmlwdD4KICAgIDxzY3JpcHQgc3JjPSJodHRwczovL2FqYXguZ29vZ2xlYXBpcy5jb20vYWpheC9saWJzL2pxdWVyeS8xLjExLjEvanF1ZXJ5Lm1pbi5qcyI+PC9zY3JpcHQ+CiAgICA8c2NyaXB0IHNyYz0iaHR0cHM6Ly9tYXhjZG4uYm9vdHN0cmFwY2RuLmNvbS9ib290c3RyYXAvMy4yLjAvanMvYm9vdHN0cmFwLm1pbi5qcyI+PC9zY3JpcHQ+CiAgICA8c2NyaXB0IHNyYz0iaHR0cHM6Ly9jZG5qcy5jbG91ZGZsYXJlLmNvbS9hamF4L2xpYnMvTGVhZmxldC5hd2Vzb21lLW1hcmtlcnMvMi4wLjIvbGVhZmxldC5hd2Vzb21lLW1hcmtlcnMuanMiPjwvc2NyaXB0PgogICAgPGxpbmsgcmVsPSJzdHlsZXNoZWV0IiBocmVmPSJodHRwczovL2Nkbi5qc2RlbGl2ci5uZXQvbnBtL2xlYWZsZXRAMS4yLjAvZGlzdC9sZWFmbGV0LmNzcyIgLz4KICAgIDxsaW5rIHJlbD0ic3R5bGVzaGVldCIgaHJlZj0iaHR0cHM6Ly9tYXhjZG4uYm9vdHN0cmFwY2RuLmNvbS9ib290c3RyYXAvMy4yLjAvY3NzL2Jvb3RzdHJhcC5taW4uY3NzIiAvPgogICAgPGxpbmsgcmVsPSJzdHlsZXNoZWV0IiBocmVmPSJodHRwczovL21heGNkbi5ib290c3RyYXBjZG4uY29tL2Jvb3RzdHJhcC8zLjIuMC9jc3MvYm9vdHN0cmFwLXRoZW1lLm1pbi5jc3MiIC8+CiAgICA8bGluayByZWw9InN0eWxlc2hlZXQiIGhyZWY9Imh0dHBzOi8vbWF4Y2RuLmJvb3RzdHJhcGNkbi5jb20vZm9udC1hd2Vzb21lLzQuNi4zL2Nzcy9mb250LWF3ZXNvbWUubWluLmNzcyIgLz4KICAgIDxsaW5rIHJlbD0ic3R5bGVzaGVldCIgaHJlZj0iaHR0cHM6Ly9jZG5qcy5jbG91ZGZsYXJlLmNvbS9hamF4L2xpYnMvTGVhZmxldC5hd2Vzb21lLW1hcmtlcnMvMi4wLjIvbGVhZmxldC5hd2Vzb21lLW1hcmtlcnMuY3NzIiAvPgogICAgPGxpbmsgcmVsPSJzdHlsZXNoZWV0IiBocmVmPSJodHRwczovL3Jhd2dpdC5jb20vcHl0aG9uLXZpc3VhbGl6YXRpb24vZm9saXVtL21hc3Rlci9mb2xpdW0vdGVtcGxhdGVzL2xlYWZsZXQuYXdlc29tZS5yb3RhdGUuY3NzIiAvPgogICAgPHN0eWxlPmh0bWwsIGJvZHkge3dpZHRoOiAxMDAlO2hlaWdodDogMTAwJTttYXJnaW46IDA7cGFkZGluZzogMDt9PC9zdHlsZT4KICAgIDxzdHlsZT4jbWFwIHtwb3NpdGlvbjphYnNvbHV0ZTt0b3A6MDtib3R0b206MDtyaWdodDowO2xlZnQ6MDt9PC9zdHlsZT4KICAgIAogICAgICAgICAgICA8c3R5bGU+ICNtYXBfNjNlMDkwNGQ4ODMxNGE1ZTgyYWRlYzE0MjFlZTU2ZjEgewogICAgICAgICAgICAgICAgcG9zaXRpb24gOiByZWxhdGl2ZTsKICAgICAgICAgICAgICAgIHdpZHRoIDogMTAwLjAlOwogICAgICAgICAgICAgICAgaGVpZ2h0OiAxMDAuMCU7CiAgICAgICAgICAgICAgICBsZWZ0OiAwLjAlOwogICAgICAgICAgICAgICAgdG9wOiAwLjAlOwogICAgICAgICAgICAgICAgfQogICAgICAgICAgICA8L3N0eWxlPgogICAgICAgIAo8L2hlYWQ+Cjxib2R5PiAgICAKICAgIAogICAgICAgICAgICA8ZGl2IGNsYXNzPSJmb2xpdW0tbWFwIiBpZD0ibWFwXzYzZTA5MDRkODgzMTRhNWU4MmFkZWMxNDIxZWU1NmYxIiA+PC9kaXY+CiAgICAgICAgCjwvYm9keT4KPHNjcmlwdD4gICAgCiAgICAKCiAgICAgICAgICAgIAogICAgICAgICAgICAgICAgdmFyIGJvdW5kcyA9IG51bGw7CiAgICAgICAgICAgIAoKICAgICAgICAgICAgdmFyIG1hcF82M2UwOTA0ZDg4MzE0YTVlODJhZGVjMTQyMWVlNTZmMSA9IEwubWFwKAogICAgICAgICAgICAgICAgICAgICAgICAgICAgICAgICAgJ21hcF82M2UwOTA0ZDg4MzE0YTVlODJhZGVjMTQyMWVlNTZmMScsCiAgICAgICAgICAgICAgICAgICAgICAgICAgICAgICAgICB7Y2VudGVyOiBbMzcuODA4MTk1ODcsLTEyMi4zMDU3MDIyMDAwMDAwMV0sCiAgICAgICAgICAgICAgICAgICAgICAgICAgICAgICAgICB6b29tOiAxMywKICAgICAgICAgICAgICAgICAgICAgICAgICAgICAgICAgIG1heEJvdW5kczogYm91bmRzLAogICAgICAgICAgICAgICAgICAgICAgICAgICAgICAgICAgbGF5ZXJzOiBbXSwKICAgICAgICAgICAgICAgICAgICAgICAgICAgICAgICAgIHdvcmxkQ29weUp1bXA6IGZhbHNlLAogICAgICAgICAgICAgICAgICAgICAgICAgICAgICAgICAgY3JzOiBMLkNSUy5FUFNHMzg1NwogICAgICAgICAgICAgICAgICAgICAgICAgICAgICAgICB9KTsKICAgICAgICAgICAgCiAgICAgICAgCiAgICAKICAgICAgICAgICAgdmFyIHRpbGVfbGF5ZXJfN2I4MmRkMDdjMTI3NDU5NGE5NGJkY2QxYjQzMzcyZTMgPSBMLnRpbGVMYXllcigKICAgICAgICAgICAgICAgICdodHRwczovL3tzfS50aWxlLm9wZW5zdHJlZXRtYXAub3JnL3t6fS97eH0ve3l9LnBuZycsCiAgICAgICAgICAgICAgICB7CiAgImF0dHJpYnV0aW9uIjogbnVsbCwKICAiZGV0ZWN0UmV0aW5hIjogZmFsc2UsCiAgIm1heFpvb20iOiAxOCwKICAibWluWm9vbSI6IDEsCiAgIm5vV3JhcCI6IGZhbHNlLAogICJzdWJkb21haW5zIjogImFiYyIKfQogICAgICAgICAgICAgICAgKS5hZGRUbyhtYXBfNjNlMDkwNGQ4ODMxNGE1ZTgyYWRlYzE0MjFlZTU2ZjEpOwogICAgICAgIAogICAgCiAgICAgICAgICAgICAgICB2YXIgcG9seV9saW5lXzk2NmQ4NmVkZjY0ZjRkNjE5OWIzMGJlMzBkMGI0NWRkID0gTC5wb2x5bGluZSgKICAgICAgICAgICAgICAgICAgICBbWzM3LjgwNzg3MDQ5NjcyNDI5LCAtMTIyLjMwMzE1MjcwMjg3MjY0XSwgWzM3LjgwOTU1MjQyOTA5NzczLCAtMTIyLjMwMjA3ODM3MDQxMTg5XSwgWzM3LjgxMTA1ODIzNTMzMDEyLCAtMTIyLjMwMzMzNzY1ODQ5ODc1XSwgWzM3LjgxMDg4MjA4NTg4NzQxNCwgLTEyMi4zMDU2NzEyNzgzNzYyNF0sIFszNy44MDkyMDAxNTMyMjI4MiwgLTEyMi4zMDY3NDU1NDE2NjI0NF0sIFszNy44MDc2OTQzNzAyOTE4LCAtMTIyLjMwNTQ4NjI1NDI0ODM0XV0sCiAgICAgICAgICAgICAgICAgICAgewogICJidWJibGluZ01vdXNlRXZlbnRzIjogdHJ1ZSwKICAiY29sb3IiOiAiIzMzODhmZiIsCiAgImRhc2hBcnJheSI6IG51bGwsCiAgImRhc2hPZmZzZXQiOiBudWxsLAogICJmaWxsIjogZmFsc2UsCiAgImZpbGxDb2xvciI6ICIjMzM4OGZmIiwKICAiZmlsbE9wYWNpdHkiOiAwLjIsCiAgImZpbGxSdWxlIjogImV2ZW5vZGQiLAogICJsaW5lQ2FwIjogInJvdW5kIiwKICAibGluZUpvaW4iOiAicm91bmQiLAogICJub0NsaXAiOiBmYWxzZSwKICAib3BhY2l0eSI6IDEuMCwKICAic21vb3RoRmFjdG9yIjogMS4wLAogICJzdHJva2UiOiB0cnVlLAogICJ3ZWlnaHQiOiAzCn0pLmFkZFRvKG1hcF82M2UwOTA0ZDg4MzE0YTVlODJhZGVjMTQyMWVlNTZmMSk7CiAgICAgICAgICAgIAo8L3NjcmlwdD4=\" style=\"position:absolute;width:100%;height:100%;left:0;top:0;border:none !important;\" allowfullscreen webkitallowfullscreen mozallowfullscreen></iframe></div></div>"
      ],
      "text/plain": [
       "<folium.folium.Map at 0x11bfb9f60>"
      ]
     },
     "execution_count": 61,
     "metadata": {},
     "output_type": "execute_result"
    }
   ],
   "source": [
    "latitude, longitude = cities['city1']['Lat'][1], cities['city1']['Lon'][1]\n",
    "\n",
    "m = folium.Map(\n",
    "    location=[latitude, longitude],\n",
    "    zoom_start=13\n",
    ")\n",
    "\n",
    "folium.PolyLine(locations=h3.h3_to_geo_boundary(cities['city1']['h3id_9'][1])).add_to(m)\n",
    "\n",
    "# folium.Circle(location=[latitude, longitude], radius=100).add_to(m)\n",
    "\n",
    "# for i, row in final[final['sensor_id'] == 312422.0].iterrows():\n",
    "\n",
    "#     folium.Circle(location=[row['max_lat'], row['max_lon']]).add_to(m)\n",
    "\n",
    "m"
   ]
  },
  {
   "cell_type": "markdown",
   "metadata": {},
   "source": [
    "## Aggregate pollution data by hexagon"
   ]
  },
  {
   "cell_type": "code",
   "execution_count": 6,
   "metadata": {},
   "outputs": [
    {
     "ename": "KeyError",
     "evalue": "'h3id_9'",
     "output_type": "error",
     "traceback": [
      "\u001b[0;31m---------------------------------------------------------------------------\u001b[0m",
      "\u001b[0;31mKeyError\u001b[0m                                  Traceback (most recent call last)",
      "\u001b[0;32m<ipython-input-6-5cda6eb108ef>\u001b[0m in \u001b[0;36m<module>\u001b[0;34m()\u001b[0m\n\u001b[1;32m      1\u001b[0m \u001b[0;32mfor\u001b[0m \u001b[0mi\u001b[0m \u001b[0;32min\u001b[0m \u001b[0mrange\u001b[0m\u001b[0;34m(\u001b[0m\u001b[0;36m1\u001b[0m\u001b[0;34m,\u001b[0m \u001b[0;36m3\u001b[0m\u001b[0;34m)\u001b[0m\u001b[0;34m:\u001b[0m\u001b[0;34m\u001b[0m\u001b[0m\n\u001b[0;32m----> 2\u001b[0;31m     \u001b[0mcities\u001b[0m\u001b[0;34m[\u001b[0m\u001b[0;34mf'city{i}_agg_9'\u001b[0m\u001b[0;34m]\u001b[0m \u001b[0;34m=\u001b[0m \u001b[0mcities\u001b[0m\u001b[0;34m[\u001b[0m\u001b[0;34mf'city{i}'\u001b[0m\u001b[0;34m]\u001b[0m\u001b[0;34m.\u001b[0m\u001b[0mgroupby\u001b[0m\u001b[0;34m(\u001b[0m\u001b[0;34m'h3id_9'\u001b[0m\u001b[0;34m)\u001b[0m\u001b[0;34m.\u001b[0m\u001b[0mmedian\u001b[0m\u001b[0;34m(\u001b[0m\u001b[0;34m)\u001b[0m\u001b[0;34m[\u001b[0m\u001b[0;34m[\u001b[0m\u001b[0;34m'NO_Med'\u001b[0m\u001b[0;34m,\u001b[0m \u001b[0;34m'NO2_Med'\u001b[0m\u001b[0;34m,\u001b[0m \u001b[0;34m'BC_Med'\u001b[0m\u001b[0;34m]\u001b[0m\u001b[0;34m]\u001b[0m\u001b[0;34m\u001b[0m\u001b[0m\n\u001b[0m\u001b[1;32m      3\u001b[0m     \u001b[0mcities\u001b[0m\u001b[0;34m[\u001b[0m\u001b[0;34mf'city{i}_agg_9'\u001b[0m\u001b[0;34m]\u001b[0m\u001b[0;34m[\u001b[0m\u001b[0;34m'city'\u001b[0m\u001b[0;34m]\u001b[0m \u001b[0;34m=\u001b[0m \u001b[0mi\u001b[0m\u001b[0;34m\u001b[0m\u001b[0m\n\u001b[1;32m      4\u001b[0m     \u001b[0mcities\u001b[0m\u001b[0;34m[\u001b[0m\u001b[0;34mf'city{i}_agg_9'\u001b[0m\u001b[0;34m]\u001b[0m \u001b[0;34m=\u001b[0m \u001b[0mcities\u001b[0m\u001b[0;34m[\u001b[0m\u001b[0;34mf'city{i}_agg_9'\u001b[0m\u001b[0;34m]\u001b[0m\u001b[0;34m.\u001b[0m\u001b[0mreset_index\u001b[0m\u001b[0;34m(\u001b[0m\u001b[0;34m)\u001b[0m\u001b[0;34m\u001b[0m\u001b[0m\n\u001b[1;32m      5\u001b[0m     \u001b[0mcities\u001b[0m\u001b[0;34m[\u001b[0m\u001b[0;34mf'city{i}_agg_9'\u001b[0m\u001b[0;34m]\u001b[0m\u001b[0;34m[\u001b[0m\u001b[0;34m'polygon'\u001b[0m\u001b[0;34m]\u001b[0m \u001b[0;34m=\u001b[0m \u001b[0mcities\u001b[0m\u001b[0;34m[\u001b[0m\u001b[0;34mf'city{i}_agg_9'\u001b[0m\u001b[0;34m]\u001b[0m\u001b[0;34m[\u001b[0m\u001b[0;34m'h3id_9'\u001b[0m\u001b[0;34m]\u001b[0m\u001b[0;34m.\u001b[0m\u001b[0mapply\u001b[0m\u001b[0;34m(\u001b[0m\u001b[0mh3\u001b[0m\u001b[0;34m.\u001b[0m\u001b[0mh3_to_geo_boundary\u001b[0m\u001b[0;34m)\u001b[0m\u001b[0;34m\u001b[0m\u001b[0m\n",
      "\u001b[0;32m/Library/Frameworks/Python.framework/Versions/3.6/lib/python3.6/site-packages/pandas/core/generic.py\u001b[0m in \u001b[0;36mgroupby\u001b[0;34m(self, by, axis, level, as_index, sort, group_keys, squeeze, **kwargs)\u001b[0m\n\u001b[1;32m   5160\u001b[0m         return groupby(self, by=by, axis=axis, level=level, as_index=as_index,\n\u001b[1;32m   5161\u001b[0m                        \u001b[0msort\u001b[0m\u001b[0;34m=\u001b[0m\u001b[0msort\u001b[0m\u001b[0;34m,\u001b[0m \u001b[0mgroup_keys\u001b[0m\u001b[0;34m=\u001b[0m\u001b[0mgroup_keys\u001b[0m\u001b[0;34m,\u001b[0m \u001b[0msqueeze\u001b[0m\u001b[0;34m=\u001b[0m\u001b[0msqueeze\u001b[0m\u001b[0;34m,\u001b[0m\u001b[0;34m\u001b[0m\u001b[0m\n\u001b[0;32m-> 5162\u001b[0;31m                        **kwargs)\n\u001b[0m\u001b[1;32m   5163\u001b[0m \u001b[0;34m\u001b[0m\u001b[0m\n\u001b[1;32m   5164\u001b[0m     def asfreq(self, freq, method=None, how=None, normalize=False,\n",
      "\u001b[0;32m/Library/Frameworks/Python.framework/Versions/3.6/lib/python3.6/site-packages/pandas/core/groupby.py\u001b[0m in \u001b[0;36mgroupby\u001b[0;34m(obj, by, **kwds)\u001b[0m\n\u001b[1;32m   1846\u001b[0m         \u001b[0;32mraise\u001b[0m \u001b[0mTypeError\u001b[0m\u001b[0;34m(\u001b[0m\u001b[0;34m'invalid type: %s'\u001b[0m \u001b[0;34m%\u001b[0m \u001b[0mtype\u001b[0m\u001b[0;34m(\u001b[0m\u001b[0mobj\u001b[0m\u001b[0;34m)\u001b[0m\u001b[0;34m)\u001b[0m\u001b[0;34m\u001b[0m\u001b[0m\n\u001b[1;32m   1847\u001b[0m \u001b[0;34m\u001b[0m\u001b[0m\n\u001b[0;32m-> 1848\u001b[0;31m     \u001b[0;32mreturn\u001b[0m \u001b[0mklass\u001b[0m\u001b[0;34m(\u001b[0m\u001b[0mobj\u001b[0m\u001b[0;34m,\u001b[0m \u001b[0mby\u001b[0m\u001b[0;34m,\u001b[0m \u001b[0;34m**\u001b[0m\u001b[0mkwds\u001b[0m\u001b[0;34m)\u001b[0m\u001b[0;34m\u001b[0m\u001b[0m\n\u001b[0m\u001b[1;32m   1849\u001b[0m \u001b[0;34m\u001b[0m\u001b[0m\n\u001b[1;32m   1850\u001b[0m \u001b[0;34m\u001b[0m\u001b[0m\n",
      "\u001b[0;32m/Library/Frameworks/Python.framework/Versions/3.6/lib/python3.6/site-packages/pandas/core/groupby.py\u001b[0m in \u001b[0;36m__init__\u001b[0;34m(self, obj, keys, axis, level, grouper, exclusions, selection, as_index, sort, group_keys, squeeze, **kwargs)\u001b[0m\n\u001b[1;32m    514\u001b[0m                                                     \u001b[0mlevel\u001b[0m\u001b[0;34m=\u001b[0m\u001b[0mlevel\u001b[0m\u001b[0;34m,\u001b[0m\u001b[0;34m\u001b[0m\u001b[0m\n\u001b[1;32m    515\u001b[0m                                                     \u001b[0msort\u001b[0m\u001b[0;34m=\u001b[0m\u001b[0msort\u001b[0m\u001b[0;34m,\u001b[0m\u001b[0;34m\u001b[0m\u001b[0m\n\u001b[0;32m--> 516\u001b[0;31m                                                     mutated=self.mutated)\n\u001b[0m\u001b[1;32m    517\u001b[0m \u001b[0;34m\u001b[0m\u001b[0m\n\u001b[1;32m    518\u001b[0m         \u001b[0mself\u001b[0m\u001b[0;34m.\u001b[0m\u001b[0mobj\u001b[0m \u001b[0;34m=\u001b[0m \u001b[0mobj\u001b[0m\u001b[0;34m\u001b[0m\u001b[0m\n",
      "\u001b[0;32m/Library/Frameworks/Python.framework/Versions/3.6/lib/python3.6/site-packages/pandas/core/groupby.py\u001b[0m in \u001b[0;36m_get_grouper\u001b[0;34m(obj, key, axis, level, sort, mutated, validate)\u001b[0m\n\u001b[1;32m   2932\u001b[0m                 \u001b[0min_axis\u001b[0m\u001b[0;34m,\u001b[0m \u001b[0mname\u001b[0m\u001b[0;34m,\u001b[0m \u001b[0mlevel\u001b[0m\u001b[0;34m,\u001b[0m \u001b[0mgpr\u001b[0m \u001b[0;34m=\u001b[0m \u001b[0;32mFalse\u001b[0m\u001b[0;34m,\u001b[0m \u001b[0;32mNone\u001b[0m\u001b[0;34m,\u001b[0m \u001b[0mgpr\u001b[0m\u001b[0;34m,\u001b[0m \u001b[0;32mNone\u001b[0m\u001b[0;34m\u001b[0m\u001b[0m\n\u001b[1;32m   2933\u001b[0m             \u001b[0;32melse\u001b[0m\u001b[0;34m:\u001b[0m\u001b[0;34m\u001b[0m\u001b[0m\n\u001b[0;32m-> 2934\u001b[0;31m                 \u001b[0;32mraise\u001b[0m \u001b[0mKeyError\u001b[0m\u001b[0;34m(\u001b[0m\u001b[0mgpr\u001b[0m\u001b[0;34m)\u001b[0m\u001b[0;34m\u001b[0m\u001b[0m\n\u001b[0m\u001b[1;32m   2935\u001b[0m         \u001b[0;32melif\u001b[0m \u001b[0misinstance\u001b[0m\u001b[0;34m(\u001b[0m\u001b[0mgpr\u001b[0m\u001b[0;34m,\u001b[0m \u001b[0mGrouper\u001b[0m\u001b[0;34m)\u001b[0m \u001b[0;32mand\u001b[0m \u001b[0mgpr\u001b[0m\u001b[0;34m.\u001b[0m\u001b[0mkey\u001b[0m \u001b[0;32mis\u001b[0m \u001b[0;32mnot\u001b[0m \u001b[0;32mNone\u001b[0m\u001b[0;34m:\u001b[0m\u001b[0;34m\u001b[0m\u001b[0m\n\u001b[1;32m   2936\u001b[0m             \u001b[0;31m# Add key to exclusions\u001b[0m\u001b[0;34m\u001b[0m\u001b[0;34m\u001b[0m\u001b[0m\n",
      "\u001b[0;31mKeyError\u001b[0m: 'h3id_9'"
     ]
    }
   ],
   "source": [
    "for i in range(1, 3):\n",
    "    cities[f'city{i}_agg_9'] = cities[f'city{i}'].groupby('h3id_9').median()[['NO_Med', 'NO2_Med', 'BC_Med']]\n",
    "    cities[f'city{i}_agg_9']['city'] = i\n",
    "    cities[f'city{i}_agg_9'] = cities[f'city{i}_agg_9'].reset_index()\n",
    "    cities[f'city{i}_agg_9']['polygon'] = cities[f'city{i}_agg_9']['h3id_9'].apply(h3.h3_to_geo_boundary)\n",
    "    cities[f'city{i}_agg_9']['polygon'] = cities[f'city{i}_agg_9']['polygon'].apply(lambda a: 'POLYGON((' + str(a).replace(',', '').replace('[', '').replace(']', ',')[:-2] + '))')\n",
    "    cities[f'city{i}_agg_9'].to_parquet(RAW_PATH / f'city{i}_agg_9.parquet')"
   ]
  },
  {
   "cell_type": "markdown",
   "metadata": {},
   "source": [
    "## Adding aggregated data to S3 and Athena"
   ]
  },
  {
   "cell_type": "code",
   "execution_count": 153,
   "metadata": {},
   "outputs": [],
   "source": [
    "import boto3\n",
    "s3 = boto3.client('s3')\n",
    "s3.upload_file(str(RAW_PATH) + '/city1_agg_9.parquet', 'data-producao', 'us/ca/san-francisco/pollution/city1_agg_9.parquet')\n",
    "s3.upload_file(str(RAW_PATH) + '/city2_agg_9.parquet', 'data-producao', 'us/ca/san-francisco/pollution/city2_agg_9.parquet')"
   ]
  },
  {
   "cell_type": "markdown",
   "metadata": {},
   "source": [
    "# Divide OSM in squares given raw pollution boundaries"
   ]
  },
  {
   "cell_type": "markdown",
   "metadata": {},
   "source": [
    "## Connect With Athena"
   ]
  },
  {
   "cell_type": "code",
   "execution_count": 62,
   "metadata": {
    "ExecuteTime": {
     "end_time": "2019-03-03T22:40:52.610935Z",
     "start_time": "2019-03-03T22:40:52.413646Z"
    },
    "collapsed": true
   },
   "outputs": [],
   "source": [
    "from pyathena import connect\n",
    "\n",
    "conn = connect(s3_staging_dir='s3://athena-robusta/teste',\n",
    "               region_name='us-east-2')"
   ]
  },
  {
   "cell_type": "code",
   "execution_count": 63,
   "metadata": {
    "ExecuteTime": {
     "end_time": "2019-03-03T21:01:04.095387Z",
     "start_time": "2019-03-03T21:01:03.988534Z"
    },
    "collapsed": true
   },
   "outputs": [],
   "source": [
    "def zip_columns(res):\n",
    "    return list(zip(map(lambda x: x[0], res.description), res.fetchall()[0]))\n",
    "\n",
    "def execute(query, conn, get_data=True):\n",
    "    cursor = conn.cursor()\n",
    "    res = cursor.execute(query)\n",
    "    if get_data:\n",
    "        data = zip_columns(res)\n",
    "        cursor.close()\n",
    "        return data\n",
    "    else:\n",
    "        cursor.close()"
   ]
  },
  {
   "cell_type": "markdown",
   "metadata": {},
   "source": [
    "## Create OSM table with relevant data"
   ]
  },
  {
   "cell_type": "code",
   "execution_count": 12,
   "metadata": {},
   "outputs": [],
   "source": [
    "def hexagons_to_boundaries(df):\n",
    "    \n",
    "    lats = []\n",
    "    lons = []\n",
    "    for i in range(len(df)):\n",
    "        \n",
    "        try:\n",
    "            a = h3.h3_to_geo_boundary(df['h3id_9'][i])\n",
    "        except:\n",
    "            print(h3_id)\n",
    "\n",
    "        lats.append(list(map(lambda x: x[0], a)))\n",
    "        lons.append(list(map(lambda x: x[1], a)))\n",
    "        \n",
    "    flatten = lambda l: [item for sublist in l for item in sublist]\n",
    "    lats = flatten(lats)\n",
    "    lons = flatten(lons)\n",
    "    return {\n",
    "     'max_lon': max(lons),\n",
    "     'max_lat': max(lats),\n",
    "     'min_lon': min(lons),\n",
    "     'min_lat': min(lats)}\n"
   ]
  },
  {
   "cell_type": "code",
   "execution_count": 13,
   "metadata": {},
   "outputs": [],
   "source": [
    "for i in range(1, 3):\n",
    "    cities[f'boundaries{i}'] = hexagons_to_boundaries(cities[f'city{i}'])"
   ]
  },
  {
   "cell_type": "code",
   "execution_count": 23,
   "metadata": {},
   "outputs": [
    {
     "data": {
      "text/plain": [
       "{'max_lat': 37.83415225556136,\n",
       " 'max_lon': -122.14436018993949,\n",
       " 'min_lat': 37.71854003174384,\n",
       " 'min_lon': -122.30693060560719}"
      ]
     },
     "execution_count": 23,
     "metadata": {},
     "output_type": "execute_result"
    }
   ],
   "source": [
    "{'max_lat': max(cities['boundaries1']['max_lat'], cities['boundaries2']['max_lat']),\n",
    "'max_lon': max(cities['boundaries1']['max_lon'], cities['boundaries2']['max_lon']),\n",
    "'min_lat': min(cities['boundaries1']['min_lat'], cities['boundaries2']['min_lat']),\n",
    "'min_lon': min(cities['boundaries1']['min_lon'], cities['boundaries2']['min_lon'])\n",
    "}"
   ]
  },
  {
   "cell_type": "code",
   "execution_count": 20,
   "metadata": {},
   "outputs": [
    {
     "data": {
      "text/plain": [
       "{'max_lat': 37.83415225556136,\n",
       " 'max_lon': -122.24983597738388,\n",
       " 'min_lat': 37.78934418537051,\n",
       " 'min_lon': -122.30693060560719}"
      ]
     },
     "execution_count": 20,
     "metadata": {},
     "output_type": "execute_result"
    }
   ],
   "source": [
    "cities['boundaries1']"
   ]
  },
  {
   "cell_type": "code",
   "execution_count": 99,
   "metadata": {},
   "outputs": [],
   "source": [
    "row = cities['boundaries1']"
   ]
  },
  {
   "cell_type": "code",
   "execution_count": 160,
   "metadata": {},
   "outputs": [
    {
     "name": "stdout",
     "output_type": "stream",
     "text": [
      "SYNTAX_ERROR: line 1:1: Destination table 'awsdatacatalog.pollution.osm_city1' already exists. You may need to manually clean the data at location 's3://athena-robusta/teste/tables/a48f814a-af0f-4ae1-9f8d-ae2d4efc35e7' before retrying. Athena will not delete data in your account.\n",
      "SYNTAX_ERROR: line 1:1: Destination table 'awsdatacatalog.pollution.osm_city2' already exists. You may need to manually clean the data at location 's3://athena-robusta/teste/tables/fad28da6-2f8e-4db8-b94d-84d025489cff' before retrying. Athena will not delete data in your account.\n"
     ]
    }
   ],
   "source": [
    "for i in range(1,3):\n",
    "    row = cities[f'boundaries{i}']\n",
    "    query = f\"\"\"\n",
    "    CREATE TABLE pollution.osm_city{i} WITH (\n",
    "        external_location = 's3://athena-robusta/pollution/osm_city{i}/1/',\n",
    "        format = 'ORC'\n",
    "    ) AS\n",
    "    SELECT *\n",
    "    FROM osm.planet\n",
    "    WHERE lat < {row['max_lat']}\n",
    "      AND lat > {row['min_lat']}\n",
    "      AND lon < {row['max_lon']}\n",
    "      AND lon > {row['min_lon']}\n",
    "      \"\"\"\n",
    "    try:\n",
    "        cursor = conn.cursor()\n",
    "        cursor.execute(query)\n",
    "        cursor.close()\n",
    "    except Exception as e:\n",
    "        print(e)\n",
    "        continue"
   ]
  },
  {
   "cell_type": "code",
   "execution_count": 162,
   "metadata": {},
   "outputs": [
    {
     "name": "stdout",
     "output_type": "stream",
     "text": [
      "\n",
      "    CREATE TABLE pollution.osm_city2 WITH (\n",
      "        external_location = 's3://athena-robusta/pollution/osm_city2/1/',\n",
      "        format = 'ORC'\n",
      "    ) AS\n",
      "    SELECT *\n",
      "    FROM osm.planet\n",
      "    WHERE lat < 37.778227313337425\n",
      "      AND lat > 37.71854003174384\n",
      "      AND lon < -122.14436018993949\n",
      "      AND lon > -122.2037841933418\n",
      "      \n"
     ]
    }
   ],
   "source": [
    "print(query)"
   ]
  },
  {
   "cell_type": "markdown",
   "metadata": {},
   "source": [
    "## Associate Hexagon with OSM"
   ]
  },
  {
   "cell_type": "code",
   "execution_count": 157,
   "metadata": {},
   "outputs": [],
   "source": [
    "query = \"\"\"CREATE TABLE pollution.osm_hexagons_flatten WITH (\n",
    "  external_location = 's3://athena-robusta/pollution/osm_hexagons_flatten/2/',\n",
    "  format = 'ORC'\n",
    "  ) AS\n",
    "SELECT *\n",
    "FROM pollution t1\n",
    "JOIN (SELECT * FROM  osm_city2) t2\n",
    "ON ST_WITHIN(ST_POINT(t2.lat, t2.lon), ST_POLYGON(t1.polygon))\n",
    "UNION ALL\n",
    "SELECT *\n",
    "FROM pollution t1\n",
    "JOIN (SELECT * FROM  osm_city1) t2\n",
    "ON ST_WITHIN(ST_POINT(t2.lat, t2.lon), ST_POLYGON(t1.polygon))\"\"\""
   ]
  },
  {
   "cell_type": "markdown",
   "metadata": {},
   "source": [
    "## Open OSM tags"
   ]
  },
  {
   "cell_type": "code",
   "execution_count": 159,
   "metadata": {
    "collapsed": true
   },
   "outputs": [
    {
     "data": {
      "text/plain": [
       "'CREATE OR REPLACE VIEW osm_hexagons_open AS \\nWITH\\n  d AS (\\n   SELECT\\n     \"id\"\\n   , \"h3id_9\"\\n   , \"type\"\\n   , \"tags\"\\n   , \"map_keys\"(\"tags\") \"map_keys\"\\n   , \"map_values\"(\"tags\") \"map_tags\"\\n   FROM\\n     pollution.osm_hexagons_flatten\\n) \\nSELECT\\n  \"id\" \"osm_id\"\\n, \"h3id_9\"\\n, \"type\"\\n, \"tags\"\\n, \"info\"\\n, \\'keys\\' \"info_type\"\\nFROM\\n  (d\\nCROSS JOIN UNNEST(\"d\".\"map_keys\") t (info))\\nUNION ALL SELECT\\n  \"id\" \"osm_id\"\\n, \"h3id_9\"\\n, \"type\"\\n, \"tags\"\\n, \"info\"\\n, \\'values\\' \"info_type\"\\nFROM\\n  (d\\nCROSS JOIN UNNEST(\"d\".\"map_tags\") s (info))\\n'"
      ]
     },
     "execution_count": 159,
     "metadata": {},
     "output_type": "execute_result"
    }
   ],
   "source": [
    "\"\"\"CREATE OR REPLACE VIEW osm_hexagons_open AS \n",
    "WITH\n",
    "  d AS (\n",
    "   SELECT\n",
    "     \"id\"\n",
    "   , \"h3id_9\"\n",
    "   , \"type\"\n",
    "   , \"tags\"\n",
    "   , \"map_keys\"(\"tags\") \"map_keys\"\n",
    "   , \"map_values\"(\"tags\") \"map_tags\"\n",
    "   FROM\n",
    "     pollution.osm_hexagons_flatten\n",
    ") \n",
    "SELECT\n",
    "  \"id\" \"osm_id\"\n",
    ", \"h3id_9\"\n",
    ", \"type\"\n",
    ", \"tags\"\n",
    ", \"info\"\n",
    ", 'keys' \"info_type\"\n",
    "FROM\n",
    "  (d\n",
    "CROSS JOIN UNNEST(\"d\".\"map_keys\") t (info))\n",
    "UNION ALL SELECT\n",
    "  \"id\" \"osm_id\"\n",
    ", \"h3id_9\"\n",
    ", \"type\"\n",
    ", \"tags\"\n",
    ", \"info\"\n",
    ", 'values' \"info_type\"\n",
    "FROM\n",
    "  (d\n",
    "CROSS JOIN UNNEST(\"d\".\"map_tags\") s (info))\n",
    "\"\"\""
   ]
  },
  {
   "cell_type": "markdown",
   "metadata": {},
   "source": [
    "# Add Waze data"
   ]
  },
  {
   "cell_type": "code",
   "execution_count": null,
   "metadata": {},
   "outputs": [],
   "source": [
    "\"\"\"\n",
    "CREATE TABLE pollution.raw_waze_jams WITH (\n",
    "  external_location = 's3://athena-robusta/pollution/raw_waze_jams/1/',\n",
    "  format = 'ORC'\n",
    ") AS  \n",
    "    SELECT *\n",
    "    FROM waze.jams\n",
    "    WHERE polygon_slug = '124-usa'\n",
    "    AND month = '03'\n",
    "    \n",
    "\"\"\""
   ]
  },
  {
   "cell_type": "markdown",
   "metadata": {},
   "source": [
    "## Reduce data to hexagons limits"
   ]
  },
  {
   "cell_type": "code",
   "execution_count": null,
   "metadata": {},
   "outputs": [],
   "source": [
    "\"\"\"CREATE TABLE pollution.raw_waze_jams_reduced WITH (\n",
    "        external_location = 's3://athena-robusta/pollution/raw_waze_jams_reduced/1/',\n",
    "        format = 'ORC'\n",
    "    ) AS\n",
    "SELECT * FROM raw_waze_jams \n",
    "    WHERE line[1].y < 37.83415225556136\n",
    "      AND line[1].y > 37.71854003174384\n",
    "      AND line[1].x < -122.14436018993949\n",
    "      AND line[1].x > -122.30693060560719\"\"\""
   ]
  },
  {
   "cell_type": "code",
   "execution_count": null,
   "metadata": {},
   "outputs": [],
   "source": [
    "\"\"\"CREATE TABLE pollution.raw_waze_alerts_reduced WITH (\n",
    "        external_location = 's3://athena-robusta/pollution/raw_waze_alerts_reduced/2/',\n",
    "        format = 'ORC'\n",
    "    ) AS\n",
    "SELECT * FROM raw_waze_alerts\n",
    "    WHERE latitude < 37.83415225556136\n",
    "      AND latitude > 37.71854003174384\n",
    "      AND longitude < -122.14436018993949\n",
    "      AND longitude > -122.30693060560719\"\"\""
   ]
  },
  {
   "cell_type": "markdown",
   "metadata": {},
   "source": [
    "## Associate data to hexagon"
   ]
  },
  {
   "cell_type": "code",
   "execution_count": 4,
   "metadata": {},
   "outputs": [
    {
     "name": "stdout",
     "output_type": "stream",
     "text": [
      "day = '1' OR\n",
      "day = '2' OR\n",
      "day = '3' OR\n",
      "day = '4' OR\n",
      "day = '5' OR\n",
      "day = '6' OR\n",
      "day = '7' OR\n",
      "day = '8' OR\n",
      "day = '9' OR\n",
      "day = '10' OR\n",
      "day = '11' OR\n",
      "day = '12' OR\n",
      "day = '13' OR\n",
      "day = '14' OR\n",
      "day = '15' OR\n",
      "day = '16' OR\n",
      "day = '17' OR\n",
      "day = '18' OR\n",
      "day = '19' OR\n",
      "day = '20' OR\n",
      "day = '21' OR\n",
      "day = '22' OR\n",
      "day = '23' OR\n",
      "day = '24' OR\n",
      "day = '25' OR\n",
      "day = '26' OR\n",
      "day = '27' OR\n",
      "day = '28' OR\n",
      "day = '29' OR\n"
     ]
    }
   ],
   "source": [
    "\"\"\"CREATE TABLE pollution.waze_jams_hexagons WITH (\n",
    "  external_location = 's3://athena-robusta/pollution/waze_jams_hexagons/2/',\n",
    "  format = 'ORC'\n",
    "  ) AS\n",
    "SELECT t1.h3id_9, t1.no2_med, t1.no_med, t1.bc_med, t1.polygon, t2.*\n",
    "FROM pollution t1\n",
    "JOIN (SELECT *, line[1].x as lon, line[1].y as lat FROM raw_waze_jams_reduced ) t2\n",
    "ON ST_WITHIN(ST_POINT(t2.lat, t2.lon), ST_POLYGON(t1.polygon))\"\"\""
   ]
  },
  {
   "cell_type": "code",
   "execution_count": null,
   "metadata": {},
   "outputs": [],
   "source": [
    "\"\"\"\n",
    "CREATE TABLE pollution.waze_alerts_hexagons WITH (\n",
    "  external_location = 's3://athena-robusta/pollution/waze_alerts_hexagons/2/',\n",
    "  format = 'ORC'\n",
    "  ) AS\n",
    "SELECT t1.h3id_9, t1.no2_med, t1.no_med, t1.bc_med, t1.polygon, t2.*\n",
    "FROM pollution t1\n",
    "JOIN (SELECT * FROM raw_waze_alerts_reduced ) t2\n",
    "ON ST_WITHIN(ST_POINT(t2.latitude, t2.longitude), ST_POLYGON(t1.polygon))\n",
    "\"\"\""
   ]
  },
  {
   "cell_type": "code",
   "execution_count": null,
   "metadata": {},
   "outputs": [],
   "source": []
  },
  {
   "cell_type": "code",
   "execution_count": null,
   "metadata": {},
   "outputs": [],
   "source": []
  },
  {
   "cell_type": "code",
   "execution_count": null,
   "metadata": {},
   "outputs": [],
   "source": []
  }
 ],
 "metadata": {
  "kernelspec": {
   "display_name": "Python 3",
   "language": "python",
   "name": "python3"
  },
  "language_info": {
   "codemirror_mode": {
    "name": "ipython",
    "version": 3
   },
   "file_extension": ".py",
   "mimetype": "text/x-python",
   "name": "python",
   "nbconvert_exporter": "python",
   "pygments_lexer": "ipython3",
   "version": "3.6.2"
  },
  "toc": {
   "nav_menu": {},
   "number_sections": true,
   "sideBar": true,
   "skip_h1_title": false,
   "toc_cell": false,
   "toc_position": {},
   "toc_section_display": true,
   "toc_window_display": false
  },
  "varInspector": {
   "cols": {
    "lenName": 16,
    "lenType": 16,
    "lenVar": 40
   },
   "kernels_config": {
    "python": {
     "delete_cmd_postfix": "",
     "delete_cmd_prefix": "del ",
     "library": "var_list.py",
     "varRefreshCmd": "print(var_dic_list())"
    },
    "r": {
     "delete_cmd_postfix": ") ",
     "delete_cmd_prefix": "rm(",
     "library": "var_list.r",
     "varRefreshCmd": "cat(var_dic_list()) "
    }
   },
   "types_to_exclude": [
    "module",
    "function",
    "builtin_function_or_method",
    "instance",
    "_Feature"
   ],
   "window_display": false
  }
 },
 "nbformat": 4,
 "nbformat_minor": 2
}
