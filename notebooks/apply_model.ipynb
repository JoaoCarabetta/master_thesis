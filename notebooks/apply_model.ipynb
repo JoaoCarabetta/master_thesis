{
 "cells": [
  {
   "cell_type": "code",
   "execution_count": 56,
   "metadata": {},
   "outputs": [],
   "source": [
    "import pandas as pd\n",
    "import pickle as p\n",
    "\n",
    "import matplotlib.pyplot as plt\n",
    "from pathlib import Path \n",
    "current_path = Path().resolve()\n",
    "\n",
    "RAW_PATH = current_path.parent / 'data' / 'raw'\n",
    "OUTPUT_PATH = current_path.parent / 'data' / 'output'\n",
    "IMGS_PATH = current_path.parent / 'imgs'\n",
    "\n",
    "%matplotlib inline"
   ]
  },
  {
   "cell_type": "code",
   "execution_count": 40,
   "metadata": {},
   "outputs": [],
   "source": [
    "df = pd.read_csv(RAW_PATH / 'montevideo' / 'waze_features.csv').set_index('h3id_9')"
   ]
  },
  {
   "cell_type": "code",
   "execution_count": 41,
   "metadata": {},
   "outputs": [
    {
     "name": "stdout",
     "output_type": "stream",
     "text": [
      "<class 'pandas.core.frame.DataFrame'>\n",
      "Index: 1951 entries, 89c2f156b4fffff to 89c2f11939bffff\n",
      "Data columns (total 21 columns):\n",
      "max_counta              1951 non-null int64\n",
      "avg_congested_prop      1951 non-null float64\n",
      "max_length              1951 non-null int64\n",
      "max_avg_speed           1951 non-null float64\n",
      "min_avg_speed           1951 non-null float64\n",
      "avg_speed               1951 non-null float64\n",
      "max_median_level        1951 non-null int64\n",
      "min_median_level        1951 non-null int64\n",
      "median_level            1951 non-null int64\n",
      "h3id_9.1                1951 non-null object\n",
      "bool_highway            1951 non-null int64\n",
      "bool_primary            1951 non-null int64\n",
      "bool_ramps              1951 non-null int64\n",
      "bool_secondary          1951 non-null int64\n",
      "count_highway           1951 non-null int64\n",
      "count_streets           1951 non-null int64\n",
      "count_primary           1951 non-null int64\n",
      "count_secondary         1951 non-null int64\n",
      "count_primary_street    1951 non-null int64\n",
      "count_primary_ramps     1951 non-null int64\n",
      "usual_road_type         1951 non-null int64\n",
      "dtypes: float64(4), int64(16), object(1)\n",
      "memory usage: 335.3+ KB\n"
     ]
    }
   ],
   "source": [
    "df.info()"
   ]
  },
  {
   "cell_type": "code",
   "execution_count": 42,
   "metadata": {},
   "outputs": [],
   "source": [
    "new_columns = ['avg_congested_prop',\n",
    " 'max_length',\n",
    " 'avg_speed',\n",
    " 'min_median_level',\n",
    " 'bool_highway',\n",
    " 'bool_ramps',\n",
    " 'count_highway',\n",
    " 'count_streets',\n",
    " 'count_primary',\n",
    " 'count_secondary',\n",
    " 'count_primary_street',\n",
    " 'count_primary_ramps']"
   ]
  },
  {
   "cell_type": "code",
   "execution_count": 43,
   "metadata": {},
   "outputs": [],
   "source": [
    "df = df[new_columns]"
   ]
  },
  {
   "cell_type": "code",
   "execution_count": 45,
   "metadata": {},
   "outputs": [],
   "source": [
    "from sklearn.preprocessing import MinMaxScaler\n",
    "# Reescaling\n",
    "scaler = MinMaxScaler(feature_range=(0, 1))\n",
    "df = pd.DataFrame(scaler.fit_transform(df.values), index=df.index, columns=new_columns)"
   ]
  },
  {
   "cell_type": "code",
   "execution_count": 46,
   "metadata": {},
   "outputs": [],
   "source": [
    "models = p.load(open(OUTPUT_PATH / 'final_models/all_models.p', 'rb'))"
   ]
  },
  {
   "cell_type": "code",
   "execution_count": 47,
   "metadata": {},
   "outputs": [],
   "source": [
    "\n",
    "final = pd.DataFrame()\n",
    "for i in range(3):\n",
    "    clf = models[i][1]['optimized_xgboost']['best_estimator']\n",
    "    final = pd.concat([ final,\n",
    "        pd.DataFrame(clf.predict(df), index=df.index).rename(columns={0: models[i][1]['pollutant']})],\n",
    "                      1)"
   ]
  },
  {
   "cell_type": "code",
   "execution_count": 48,
   "metadata": {},
   "outputs": [],
   "source": [
    "final.to_csv(OUTPUT_PATH / 'final_models' / 'montevideo_xgboost.csv')"
   ]
  },
  {
   "cell_type": "code",
   "execution_count": 52,
   "metadata": {},
   "outputs": [
    {
     "data": {
      "text/plain": [
       "array([[<matplotlib.axes._subplots.AxesSubplot object at 0x1170aab00>,\n",
       "        <matplotlib.axes._subplots.AxesSubplot object at 0x1215b86d8>],\n",
       "       [<matplotlib.axes._subplots.AxesSubplot object at 0x1215e5c88>,\n",
       "        <matplotlib.axes._subplots.AxesSubplot object at 0x12161e278>]],\n",
       "      dtype=object)"
      ]
     },
     "execution_count": 52,
     "metadata": {},
     "output_type": "execute_result"
    },
    {
     "data": {
      "image/png": "[encoded data removed]",
      "text/plain": [
       "<Figure size 432x288 with 4 Axes>"
      ]
     },
     "metadata": {},
     "output_type": "display_data"
    }
   ],
   "source": [
    "\n",
    "final.hist()"
   ]
  },
  {
   "cell_type": "code",
   "execution_count": 61,
   "metadata": {},
   "outputs": [],
   "source": [
    "f = final.sort_values(by='NO', ascending=False).reset_index()['NO']"
   ]
  },
  {
   "cell_type": "code",
   "execution_count": 62,
   "metadata": {},
   "outputs": [
    {
     "data": {
      "text/plain": [
       "[<matplotlib.lines.Line2D at 0x121ccf198>]"
      ]
     },
     "execution_count": 62,
     "metadata": {},
     "output_type": "execute_result"
    },
    {
     "data": {
      "image/png": "[encoded data removed]",
      "text/plain": [
       "<Figure size 432x288 with 1 Axes>"
      ]
     },
     "metadata": {},
     "output_type": "display_data"
    }
   ],
   "source": [
    "plt.loglog(f.index + 2, f)"
   ]
  },
  {
   "cell_type": "code",
   "execution_count": null,
   "metadata": {},
   "outputs": [],
   "source": []
  }
 ],
 "metadata": {
  "kernelspec": {
   "display_name": "Python 3",
   "language": "python",
   "name": "python3"
  },
  "language_info": {
   "codemirror_mode": {
    "name": "ipython",
    "version": 3
   },
   "file_extension": ".py",
   "mimetype": "text/x-python",
   "name": "python",
   "nbconvert_exporter": "python",
   "pygments_lexer": "ipython3",
   "version": "3.7.0"
  }
 },
 "nbformat": 4,
 "nbformat_minor": 2
}
