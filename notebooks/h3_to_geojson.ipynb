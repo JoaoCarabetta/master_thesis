{
 "cells": [
  {
   "cell_type": "code",
   "execution_count": 2,
   "metadata": {},
   "outputs": [
    {
     "ename": "ModuleNotFoundError",
     "evalue": "No module named 'h3'",
     "output_type": "error",
     "traceback": [
      "\u001b[0;31m---------------------------------------------------------------------------\u001b[0m",
      "\u001b[0;31mModuleNotFoundError\u001b[0m                       Traceback (most recent call last)",
      "\u001b[0;32m<ipython-input-2-1ef7206119a6>\u001b[0m in \u001b[0;36m<module>\u001b[0;34m()\u001b[0m\n\u001b[1;32m     12\u001b[0m \u001b[0mget_ipython\u001b[0m\u001b[0;34m(\u001b[0m\u001b[0;34m)\u001b[0m\u001b[0;34m.\u001b[0m\u001b[0mrun_line_magic\u001b[0m\u001b[0;34m(\u001b[0m\u001b[0;34m'matplotlib'\u001b[0m\u001b[0;34m,\u001b[0m \u001b[0;34m'inline'\u001b[0m\u001b[0;34m)\u001b[0m\u001b[0;34m\u001b[0m\u001b[0m\n\u001b[1;32m     13\u001b[0m \u001b[0;34m\u001b[0m\u001b[0m\n\u001b[0;32m---> 14\u001b[0;31m \u001b[0;32mfrom\u001b[0m \u001b[0mh3\u001b[0m \u001b[0;32mimport\u001b[0m \u001b[0mh3\u001b[0m\u001b[0;34m\u001b[0m\u001b[0m\n\u001b[0m\u001b[1;32m     15\u001b[0m \u001b[0;32mfrom\u001b[0m \u001b[0mcopy\u001b[0m \u001b[0;32mimport\u001b[0m \u001b[0mdeepcopy\u001b[0m\u001b[0;34m\u001b[0m\u001b[0m\n",
      "\u001b[0;31mModuleNotFoundError\u001b[0m: No module named 'h3'"
     ]
    }
   ],
   "source": [
    "\n",
    "import pandas as pd\n",
    "\n",
    "from pathlib import Path \n",
    "current_path = Path().resolve()\n",
    "\n",
    "RAW_PATH = current_path.parent / 'data' / 'raw'\n",
    "OUTPUT_PATH = current_path.parent / 'data' / 'output'\n",
    "\n",
    "pd.set_option('display.max_columns', 500)\n",
    "\n",
    "%matplotlib inline\n",
    "\n",
    "from h3 import h3\n",
    "from copy import deepcopy"
   ]
  },
  {
   "cell_type": "code",
   "execution_count": 323,
   "metadata": {},
   "outputs": [],
   "source": [
    "df = pd.read_csv(RAW_PATH / 'h3_address.csv', names=['h3_address'])"
   ]
  },
  {
   "cell_type": "code",
   "execution_count": 328,
   "metadata": {},
   "outputs": [],
   "source": [
    "def to_geojson(df, h3_address='h3_address'):\n",
    "    \n",
    "    swipe = lambda x: [x[1], x[0]]\n",
    "\n",
    "    df['h3_bound'] = df[h3_address].apply(h3.h3_to_geo_boundary)\n",
    "    df['h3_bound'] = df['h3_bound'].apply(lambda x: list(map(swipe, x)))\n",
    "    df['h3_bound'] = df['h3_bound'].apply(lambda x: [x + [x[0]]])\n",
    "    \n",
    "    geojson = {'features': [],\n",
    "           'type': 'FeatureCollection'}\n",
    "    \n",
    "    feature = {'geometry': \n",
    "           {'coordinates': None,\n",
    "            'type': 'Polygon'},\n",
    "           'properties': {'id': None},\n",
    "           'type': 'Feature'}\n",
    "    \n",
    "    for i, row in df.iterrows():\n",
    "    \n",
    "        _feature = deepcopy(feature)\n",
    "\n",
    "        _feature['geometry']['coordinates'] = row['h3_bound']\n",
    "        _feature['properties'] = {'h3_address': row['h3_address']}\n",
    "\n",
    "        geojson['features'].append(_feature)\n",
    "    \n",
    "    return geojson"
   ]
  },
  {
   "cell_type": "code",
   "execution_count": 330,
   "metadata": {},
   "outputs": [],
   "source": [
    "geojson = to_geojson(df)"
   ]
  },
  {
   "cell_type": "code",
   "execution_count": 332,
   "metadata": {},
   "outputs": [],
   "source": [
    "json.dump(geojson, open(RAW_PATH / 'h3_address.geojson', 'w'))"
   ]
  },
  {
   "cell_type": "code",
   "execution_count": null,
   "metadata": {},
   "outputs": [],
   "source": []
  }
 ],
 "metadata": {
  "kernelspec": {
   "display_name": "Python 3",
   "language": "python",
   "name": "python3"
  },
  "language_info": {
   "codemirror_mode": {
    "name": "ipython",
    "version": 3
   },
   "file_extension": ".py",
   "mimetype": "text/x-python",
   "name": "python",
   "nbconvert_exporter": "python",
   "pygments_lexer": "ipython3",
   "version": "3.7.0"
  }
 },
 "nbformat": 4,
 "nbformat_minor": 2
}
