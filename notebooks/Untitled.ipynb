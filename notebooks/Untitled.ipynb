{
 "cells": [
  {
   "cell_type": "markdown",
   "metadata": {},
   "source": [
    "# Imports"
   ]
  },
  {
   "cell_type": "code",
   "execution_count": 2,
   "metadata": {},
   "outputs": [],
   "source": [
    "from pyathena import connect\n",
    "import pandas as pd\n",
    "import numpy as np\n",
    "\n",
    "from pathlib import Path \n",
    "current_path = Path().resolve()\n",
    "\n",
    "RAW_PATH = current_path.parent / 'data' / 'raw'\n",
    "OUTPUT_PATH = current_path.parent / 'data' / 'output'\n",
    "\n",
    "import pickle\n",
    "\n",
    "%matplotlib inline"
   ]
  },
  {
   "cell_type": "markdown",
   "metadata": {},
   "source": [
    "# Load Dataset"
   ]
  },
  {
   "cell_type": "code",
   "execution_count": 15,
   "metadata": {},
   "outputs": [],
   "source": [
    "X = pickle.load(open(OUTPUT_PATH / 'X_v1.p', 'rb'))\n",
    "Y = pickle.load(open(OUTPUT_PATH / 'Y_v1.p', 'rb'))"
   ]
  },
  {
   "cell_type": "code",
   "execution_count": 17,
   "metadata": {},
   "outputs": [
    {
     "data": {
      "text/html": [
       "<div>\n",
       "<style scoped>\n",
       "    .dataframe tbody tr th:only-of-type {\n",
       "        vertical-align: middle;\n",
       "    }\n",
       "\n",
       "    .dataframe tbody tr th {\n",
       "        vertical-align: top;\n",
       "    }\n",
       "\n",
       "    .dataframe thead th {\n",
       "        text-align: right;\n",
       "    }\n",
       "</style>\n",
       "<table border=\"1\" class=\"dataframe\">\n",
       "  <thead>\n",
       "    <tr style=\"text-align: right;\">\n",
       "      <th></th>\n",
       "      <th>general_counta_0</th>\n",
       "      <th>node_counta_0</th>\n",
       "      <th>info_counta_0</th>\n",
       "      <th>natural_counta_0</th>\n",
       "      <th>place_counta_0</th>\n",
       "      <th>parking_counta_0</th>\n",
       "      <th>addr_street_counta_0</th>\n",
       "      <th>addr_housenumber_counta_0</th>\n",
       "      <th>amenity_counta_0</th>\n",
       "      <th>school_counta_0</th>\n",
       "      <th>...</th>\n",
       "      <th>natural_counta_6</th>\n",
       "      <th>place_counta_6</th>\n",
       "      <th>parking_counta_6</th>\n",
       "      <th>addr_street_counta_6</th>\n",
       "      <th>addr_housenumber_counta_6</th>\n",
       "      <th>amenity_counta_6</th>\n",
       "      <th>school_counta_6</th>\n",
       "      <th>restaurant_counta_6</th>\n",
       "      <th>place_of_worship_counta_6</th>\n",
       "      <th>shop_counta_6</th>\n",
       "    </tr>\n",
       "    <tr>\n",
       "      <th>sensor_id</th>\n",
       "      <th></th>\n",
       "      <th></th>\n",
       "      <th></th>\n",
       "      <th></th>\n",
       "      <th></th>\n",
       "      <th></th>\n",
       "      <th></th>\n",
       "      <th></th>\n",
       "      <th></th>\n",
       "      <th></th>\n",
       "      <th></th>\n",
       "      <th></th>\n",
       "      <th></th>\n",
       "      <th></th>\n",
       "      <th></th>\n",
       "      <th></th>\n",
       "      <th></th>\n",
       "      <th></th>\n",
       "      <th></th>\n",
       "      <th></th>\n",
       "      <th></th>\n",
       "    </tr>\n",
       "  </thead>\n",
       "  <tbody>\n",
       "    <tr>\n",
       "      <th>311831</th>\n",
       "      <td>0.002966</td>\n",
       "      <td>0.00969</td>\n",
       "      <td>0.024712</td>\n",
       "      <td>0.0</td>\n",
       "      <td>0.0</td>\n",
       "      <td>0.0</td>\n",
       "      <td>0.0</td>\n",
       "      <td>0.0</td>\n",
       "      <td>0.038462</td>\n",
       "      <td>0.0</td>\n",
       "      <td>...</td>\n",
       "      <td>0.543071</td>\n",
       "      <td>0.225806</td>\n",
       "      <td>0.0</td>\n",
       "      <td>0.001794</td>\n",
       "      <td>0.001692</td>\n",
       "      <td>0.056047</td>\n",
       "      <td>0.10989</td>\n",
       "      <td>0.044025</td>\n",
       "      <td>0.005525</td>\n",
       "      <td>0.070866</td>\n",
       "    </tr>\n",
       "  </tbody>\n",
       "</table>\n",
       "<p>1 rows × 52 columns</p>\n",
       "</div>"
      ],
      "text/plain": [
       "           general_counta_0  node_counta_0  info_counta_0  natural_counta_0  \\\n",
       "sensor_id                                                                     \n",
       "311831             0.002966        0.00969       0.024712               0.0   \n",
       "\n",
       "           place_counta_0  parking_counta_0  addr_street_counta_0  \\\n",
       "sensor_id                                                           \n",
       "311831                0.0               0.0                   0.0   \n",
       "\n",
       "           addr_housenumber_counta_0  amenity_counta_0  school_counta_0  \\\n",
       "sensor_id                                                                 \n",
       "311831                           0.0          0.038462              0.0   \n",
       "\n",
       "               ...        natural_counta_6  place_counta_6  parking_counta_6  \\\n",
       "sensor_id      ...                                                             \n",
       "311831         ...                0.543071        0.225806               0.0   \n",
       "\n",
       "           addr_street_counta_6  addr_housenumber_counta_6  amenity_counta_6  \\\n",
       "sensor_id                                                                      \n",
       "311831                 0.001794                   0.001692          0.056047   \n",
       "\n",
       "           school_counta_6  restaurant_counta_6  place_of_worship_counta_6  \\\n",
       "sensor_id                                                                    \n",
       "311831             0.10989             0.044025                   0.005525   \n",
       "\n",
       "           shop_counta_6  \n",
       "sensor_id                 \n",
       "311831          0.070866  \n",
       "\n",
       "[1 rows x 52 columns]"
      ]
     },
     "execution_count": 17,
     "metadata": {},
     "output_type": "execute_result"
    }
   ],
   "source": [
    "X.head(1)"
   ]
  },
  {
   "cell_type": "code",
   "execution_count": 18,
   "metadata": {},
   "outputs": [
    {
     "data": {
      "text/plain": [
       "sensor_id\n",
       "314204    (3, 5]\n",
       "Name: cats, dtype: category\n",
       "Categories (3, object): [(0, 3] < (3, 5] < (5, 6]]"
      ]
     },
     "execution_count": 18,
     "metadata": {},
     "output_type": "execute_result"
    }
   ],
   "source": [
    "Y.head(1)"
   ]
  },
  {
   "cell_type": "markdown",
   "metadata": {},
   "source": [
    "# Load SKlearn Metrics and Functions"
   ]
  },
  {
   "cell_type": "code",
   "execution_count": 19,
   "metadata": {},
   "outputs": [],
   "source": [
    "from sklearn import model_selection\n",
    "\n",
    "from sklearn.metrics import confusion_matrix\n",
    "from sklearn.metrics import classification_report\n",
    "from sklearn.metrics import confusion_matrix\n",
    "from sklearn.metrics import roc_auc_score\n",
    "from sklearn.metrics import roc_curve\n",
    "from sklearn.metrics import accuracy_score\n",
    "from sklearn.metrics import average_precision_score\n",
    "from sklearn.metrics import f1_score"
   ]
  },
  {
   "cell_type": "code",
   "execution_count": null,
   "metadata": {},
   "outputs": [],
   "source": [
    "'tipo=%(tipo)s&ano=%(ano)s'"
   ]
  },
  {
   "cell_type": "code",
   "execution_count": 1,
   "metadata": {},
   "outputs": [],
   "source": [
    "d = ['pl', 2019]\n",
    "url_params = ['tipo', 'ano']"
   ]
  },
  {
   "cell_type": "code",
   "execution_count": 10,
   "metadata": {},
   "outputs": [
    {
     "data": {
      "text/plain": [
       "'tipo=pl&ano=2019'"
      ]
     },
     "execution_count": 10,
     "metadata": {},
     "output_type": "execute_result"
    }
   ],
   "source": [
    "'&'.join(map(lambda x: '='.join(map(str, x)), zip(url_params, list(d))))"
   ]
  },
  {
   "cell_type": "code",
   "execution_count": null,
   "metadata": {},
   "outputs": [],
   "source": []
  },
  {
   "cell_type": "code",
   "execution_count": null,
   "metadata": {},
   "outputs": [],
   "source": [
    "# First Model -- "
   ]
  }
 ],
 "metadata": {
  "kernelspec": {
   "display_name": "Python 3",
   "language": "python",
   "name": "python3"
  },
  "language_info": {
   "codemirror_mode": {
    "name": "ipython",
    "version": 3
   },
   "file_extension": ".py",
   "mimetype": "text/x-python",
   "name": "python",
   "nbconvert_exporter": "python",
   "pygments_lexer": "ipython3",
   "version": "3.6.2"
  }
 },
 "nbformat": 4,
 "nbformat_minor": 2
}
